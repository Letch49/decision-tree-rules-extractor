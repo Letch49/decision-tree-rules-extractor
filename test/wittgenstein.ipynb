{
 "cells": [
  {
   "cell_type": "code",
   "execution_count": 1,
   "id": "8a2cde5b-6a17-4428-b260-51f665d602fb",
   "metadata": {},
   "outputs": [
    {
     "name": "stdout",
     "output_type": "stream",
     "text": [
      "Requirement already satisfied: pip in /Users/roman/ML/decision-tree-rules-extractor/.venv/lib/python3.11/site-packages (24.2)\n",
      "Collecting pip\n",
      "  Downloading pip-25.3-py3-none-any.whl.metadata (4.7 kB)\n",
      "Downloading pip-25.3-py3-none-any.whl (1.8 MB)\n",
      "\u001b[2K   \u001b[90m━━━━━━━━━━━━━━━━━━━━━━━━━━━━━━━━━━━━━━━━\u001b[0m \u001b[32m1.8/1.8 MB\u001b[0m \u001b[31m83.5 kB/s\u001b[0m eta \u001b[36m0:00:00\u001b[0ma \u001b[36m0:00:03\u001b[0mm\n",
      "\u001b[?25hInstalling collected packages: pip\n",
      "  Attempting uninstall: pip\n",
      "    Found existing installation: pip 24.2\n",
      "    Uninstalling pip-24.2:\n",
      "      Successfully uninstalled pip-24.2\n",
      "Successfully installed pip-25.3\n",
      "Requirement already satisfied: wittgenstein in /Users/roman/ML/decision-tree-rules-extractor/.venv/lib/python3.11/site-packages (0.3.4)\n",
      "Requirement already satisfied: seaborn in /Users/roman/ML/decision-tree-rules-extractor/.venv/lib/python3.11/site-packages (0.13.2)\n",
      "Requirement already satisfied: rulefit in /Users/roman/ML/decision-tree-rules-extractor/.venv/lib/python3.11/site-packages (0.3)\n",
      "Requirement already satisfied: pandas in /Users/roman/ML/decision-tree-rules-extractor/.venv/lib/python3.11/site-packages (from wittgenstein) (2.1.0)\n",
      "Requirement already satisfied: numpy in /Users/roman/ML/decision-tree-rules-extractor/.venv/lib/python3.11/site-packages (from wittgenstein) (1.25.2)\n",
      "Requirement already satisfied: matplotlib!=3.6.1,>=3.4 in /Users/roman/ML/decision-tree-rules-extractor/.venv/lib/python3.11/site-packages (from seaborn) (3.7.3)\n",
      "Requirement already satisfied: scikit-learn>=0.20.2 in /Users/roman/ML/decision-tree-rules-extractor/.venv/lib/python3.11/site-packages (from rulefit) (1.3.0)\n",
      "Requirement already satisfied: ordered-set>=4.1.0 in /Users/roman/ML/decision-tree-rules-extractor/.venv/lib/python3.11/site-packages (from rulefit) (4.1.0)\n",
      "Requirement already satisfied: contourpy>=1.0.1 in /Users/roman/ML/decision-tree-rules-extractor/.venv/lib/python3.11/site-packages (from matplotlib!=3.6.1,>=3.4->seaborn) (1.1.0)\n",
      "Requirement already satisfied: cycler>=0.10 in /Users/roman/ML/decision-tree-rules-extractor/.venv/lib/python3.11/site-packages (from matplotlib!=3.6.1,>=3.4->seaborn) (0.11.0)\n",
      "Requirement already satisfied: fonttools>=4.22.0 in /Users/roman/ML/decision-tree-rules-extractor/.venv/lib/python3.11/site-packages (from matplotlib!=3.6.1,>=3.4->seaborn) (4.42.1)\n",
      "Requirement already satisfied: kiwisolver>=1.0.1 in /Users/roman/ML/decision-tree-rules-extractor/.venv/lib/python3.11/site-packages (from matplotlib!=3.6.1,>=3.4->seaborn) (1.4.5)\n",
      "Requirement already satisfied: packaging>=20.0 in /Users/roman/ML/decision-tree-rules-extractor/.venv/lib/python3.11/site-packages (from matplotlib!=3.6.1,>=3.4->seaborn) (23.1)\n",
      "Requirement already satisfied: pillow>=6.2.0 in /Users/roman/ML/decision-tree-rules-extractor/.venv/lib/python3.11/site-packages (from matplotlib!=3.6.1,>=3.4->seaborn) (10.0.0)\n",
      "Requirement already satisfied: pyparsing>=2.3.1 in /Users/roman/ML/decision-tree-rules-extractor/.venv/lib/python3.11/site-packages (from matplotlib!=3.6.1,>=3.4->seaborn) (3.1.1)\n",
      "Requirement already satisfied: python-dateutil>=2.7 in /Users/roman/ML/decision-tree-rules-extractor/.venv/lib/python3.11/site-packages (from matplotlib!=3.6.1,>=3.4->seaborn) (2.8.2)\n",
      "Requirement already satisfied: pytz>=2020.1 in /Users/roman/ML/decision-tree-rules-extractor/.venv/lib/python3.11/site-packages (from pandas->wittgenstein) (2023.3.post1)\n",
      "Requirement already satisfied: tzdata>=2022.1 in /Users/roman/ML/decision-tree-rules-extractor/.venv/lib/python3.11/site-packages (from pandas->wittgenstein) (2023.3)\n",
      "Requirement already satisfied: six>=1.5 in /Users/roman/ML/decision-tree-rules-extractor/.venv/lib/python3.11/site-packages (from python-dateutil>=2.7->matplotlib!=3.6.1,>=3.4->seaborn) (1.16.0)\n",
      "Requirement already satisfied: scipy>=1.5.0 in /Users/roman/ML/decision-tree-rules-extractor/.venv/lib/python3.11/site-packages (from scikit-learn>=0.20.2->rulefit) (1.9.3)\n",
      "Requirement already satisfied: joblib>=1.1.1 in /Users/roman/ML/decision-tree-rules-extractor/.venv/lib/python3.11/site-packages (from scikit-learn>=0.20.2->rulefit) (1.3.2)\n",
      "Requirement already satisfied: threadpoolctl>=2.0.0 in /Users/roman/ML/decision-tree-rules-extractor/.venv/lib/python3.11/site-packages (from scikit-learn>=0.20.2->rulefit) (3.2.0)\n"
     ]
    }
   ],
   "source": [
    "!pip install --upgrade pip\n",
    "# Install wittgenstein library\n",
    "!pip install wittgenstein seaborn rulefit"
   ]
  },
  {
   "cell_type": "code",
   "execution_count": 2,
   "id": "c023332f-7f90-4230-9625-f21a64c1471d",
   "metadata": {},
   "outputs": [
    {
     "ename": "SyntaxError",
     "evalue": "expected '(' (1448839717.py, line 23)",
     "output_type": "error",
     "traceback": [
      "\u001b[0;36m  Cell \u001b[0;32mIn[2], line 23\u001b[0;36m\u001b[0m\n\u001b[0;31m    def df['adult_male']\u001b[0m\n\u001b[0m          ^\u001b[0m\n\u001b[0;31mSyntaxError\u001b[0m\u001b[0;31m:\u001b[0m expected '('\n"
     ]
    }
   ],
   "source": [
    "# Импорт необходимых библиотек\n",
    "import pandas as pd\n",
    "import numpy as np\n",
    "import seaborn as sns\n",
    "import wittgenstein as lw\n",
    "from rulefit import RuleFit\n",
    "from sklearn.tree import DecisionTreeClassifier, export_text\n",
    "from sklearn.model_selection import train_test_split\n",
    "from sklearn.preprocessing import OneHotEncoder\n",
    "from sklearn.compose import ColumnTransformer\n",
    "from sklearn.metrics import classification_report, confusion_matrix, roc_auc_score, accuracy_score, f1_score\n",
    "\n",
    "# Загрузка датасета Titanic\n",
    "df = sns.load_dataset('titanic')\n",
    "\n",
    "# Удаление строк с пропущенными значениями\n",
    "df = df.dropna()\n",
    "\n",
    "del df['alive']\n",
    "\n",
    "del df['alone']\n",
    "\n",
    "# def df['adult_male']\n",
    "\n",
    "def df['embark_town']\n",
    "\n",
    "# Разделение признаков и целевой переменной\n",
    "X = df.drop('survived', axis=1)\n",
    "y = df['survived']\n",
    "\n",
    "# Определение категориальных и числовых столбцов\n",
    "categorical_cols = X.select_dtypes(include=['object', 'category']).columns\n",
    "numerical_cols = X.select_dtypes(include=['int64', 'float64']).columns\n",
    "\n",
    "# Преобразование категориальных признаков с помощью OneHotEncoder\n",
    "column_transformer = ColumnTransformer(\n",
    "    transformers=[\n",
    "        ('cat', OneHotEncoder(drop='first'), categorical_cols),\n",
    "    ],\n",
    "    remainder='passthrough'  # Оставляем числовые столбцы без изменений\n",
    ")\n",
    "\n",
    "# Преобразование признаков\n",
    "X_enc = column_transformer.fit_transform(X)\n",
    "feature_names = column_transformer.get_feature_names_out()\n",
    "\n",
    "# Преобразование в DataFrame\n",
    "X_enc_df = pd.DataFrame(X_enc, columns=feature_names)\n",
    "\n",
    "# Разделение на обучающую и тестовую выборки\n",
    "X_train, X_test, y_train, y_test = train_test_split(\n",
    "    X_enc_df, y, test_size=0.2, stratify=y, random_state=42\n",
    ")\n"
   ]
  },
  {
   "cell_type": "code",
   "execution_count": 30,
   "id": "47ec846b-3d5b-4b63-bd9c-0228c9eec613",
   "metadata": {},
   "outputs": [
    {
     "name": "stdout",
     "output_type": "stream",
     "text": [
      "Правила RIPPER:\n",
      "\n",
      "[[cat__who_man=0.0^cat__deck_C=0.0^cat__class_Third=0.0] V [cat__who_man=0.0^remainder__parch=0]]\n"
     ]
    }
   ],
   "source": [
    "# Объединение признаков и целевой переменной для RIPPER\n",
    "train_df = pd.concat([X_train.reset_index(drop=True), y_train.reset_index(drop=True)], axis=1)\n",
    "test_df = pd.concat([X_test.reset_index(drop=True), y_test.reset_index(drop=True)], axis=1)\n",
    "\n",
    "# Инициализация и обучение модели RIPPER\n",
    "ripper_clf = lw.RIPPER(random_state=42)\n",
    "ripper_clf.fit(train_df, class_feat='survived', pos_class=1)\n",
    "\n",
    "# Предсказание на тестовой выборке\n",
    "y_pred_ripper = ripper_clf.predict(test_df)\n",
    "\n",
    "# Расчет метрик\n",
    "auc_ripper = roc_auc_score(y_test, y_pred_ripper)\n",
    "acc_ripper = accuracy_score(y_test, y_pred_ripper)\n",
    "f1_ripper = f1_score(y_test, y_pred_ripper)\n",
    "\n",
    "# Вывод правил\n",
    "print(\"Правила RIPPER:\\n\")\n",
    "print(ripper_clf.ruleset_)\n"
   ]
  },
  {
   "cell_type": "code",
   "execution_count": 31,
   "id": "6075f539-c2ec-49e2-bad6-0837f6d26532",
   "metadata": {},
   "outputs": [
    {
     "name": "stdout",
     "output_type": "stream",
     "text": [
      "Правила Дерева решений:\n",
      "\n",
      "|--- remainder__adult_male <= 0.50\n",
      "|   |--- remainder__fare <= 10.48\n",
      "|   |   |--- class: 0\n",
      "|   |--- remainder__fare >  10.48\n",
      "|   |   |--- remainder__fare <= 11.49\n",
      "|   |   |   |--- class: 1\n",
      "|   |   |--- remainder__fare >  11.49\n",
      "|   |   |   |--- class: 1\n",
      "|--- remainder__adult_male >  0.50\n",
      "|   |--- remainder__age <= 43.50\n",
      "|   |   |--- cat__deck_E <= 0.50\n",
      "|   |   |   |--- class: 0\n",
      "|   |   |--- cat__deck_E >  0.50\n",
      "|   |   |   |--- class: 1\n",
      "|   |--- remainder__age >  43.50\n",
      "|   |   |--- remainder__age <= 47.50\n",
      "|   |   |   |--- class: 0\n",
      "|   |   |--- remainder__age >  47.50\n",
      "|   |   |   |--- class: 0\n",
      "\n"
     ]
    }
   ],
   "source": [
    "# Инициализация и обучение модели Дерева решений\n",
    "dt_clf = DecisionTreeClassifier(max_depth=3, random_state=42)\n",
    "dt_clf.fit(X_train, y_train)\n",
    "\n",
    "# Предсказание на тестовой выборке\n",
    "y_pred_dt = dt_clf.predict(X_test)\n",
    "\n",
    "# Расчет метрик\n",
    "auc_dt = roc_auc_score(y_test, y_pred_dt)\n",
    "acc_dt = accuracy_score(y_test, y_pred_dt)\n",
    "f1_dt = f1_score(y_test, y_pred_dt)\n",
    "\n",
    "# Экспорт правил дерева решений\n",
    "tree_rules = export_text(dt_clf, feature_names=list(X_train.columns))\n",
    "print(\"Правила Дерева решений:\\n\")\n",
    "print(tree_rules)\n"
   ]
  },
  {
   "cell_type": "code",
   "execution_count": 32,
   "id": "c54e7e3f-01f0-45a3-aaf3-ba4f7cd34baf",
   "metadata": {
    "scrolled": true
   },
   "outputs": [
    {
     "name": "stdout",
     "output_type": "stream",
     "text": [
      "\n"
     ]
    },
    {
     "ename": "TypeError",
     "evalue": "numpy boolean subtract, the `-` operator, is not supported, use the bitwise_xor, the `^` operator, or the logical_xor function instead.",
     "output_type": "error",
     "traceback": [
      "\u001b[0;31m---------------------------------------------------------------------------\u001b[0m",
      "\u001b[0;31mTypeError\u001b[0m                                 Traceback (most recent call last)",
      "Cell \u001b[0;32mIn[32], line 10\u001b[0m\n\u001b[1;32m      2\u001b[0m rf_clf \u001b[38;5;241m=\u001b[39m RuleFit(\n\u001b[1;32m      3\u001b[0m     tree_size\u001b[38;5;241m=\u001b[39m\u001b[38;5;241m4\u001b[39m,\n\u001b[1;32m      4\u001b[0m     random_state\u001b[38;5;241m=\u001b[39m\u001b[38;5;241m42\u001b[39m,\n\u001b[0;32m   (...)\u001b[0m\n\u001b[1;32m      7\u001b[0m     rfmode\u001b[38;5;241m=\u001b[39m\u001b[38;5;124m'\u001b[39m\u001b[38;5;124mclassify\u001b[39m\u001b[38;5;124m'\u001b[39m\n\u001b[1;32m      8\u001b[0m )\n\u001b[1;32m      9\u001b[0m \u001b[38;5;28mprint\u001b[39m()\n\u001b[0;32m---> 10\u001b[0m \u001b[43mrf_clf\u001b[49m\u001b[38;5;241;43m.\u001b[39;49m\u001b[43mfit\u001b[49m\u001b[43m(\u001b[49m\u001b[43mX_train\u001b[49m\u001b[38;5;241;43m.\u001b[39;49m\u001b[43mvalues\u001b[49m\u001b[43m,\u001b[49m\u001b[43m \u001b[49m\u001b[43my_train\u001b[49m\u001b[38;5;241;43m.\u001b[39;49m\u001b[43mvalues\u001b[49m\u001b[43m,\u001b[49m\u001b[43m \u001b[49m\u001b[43mfeature_names\u001b[49m\u001b[38;5;241;43m=\u001b[39;49m\u001b[43mX_train\u001b[49m\u001b[38;5;241;43m.\u001b[39;49m\u001b[43mcolumns\u001b[49m\u001b[43m)\u001b[49m\n\u001b[1;32m     12\u001b[0m \u001b[38;5;66;03m# Предсказание на тестовой выборке\u001b[39;00m\n\u001b[1;32m     13\u001b[0m y_pred_rf \u001b[38;5;241m=\u001b[39m rf_clf\u001b[38;5;241m.\u001b[39mpredict(X_test\u001b[38;5;241m.\u001b[39mvalues)\n",
      "File \u001b[0;32m~/ML/decision-tree-rules-extractor/.venv/lib/python3.11/site-packages/rulefit/rulefit.py:499\u001b[0m, in \u001b[0;36mRuleFit.fit\u001b[0;34m(self, X, y, feature_names)\u001b[0m\n\u001b[1;32m    496\u001b[0m \u001b[38;5;66;03m## standardise linear variables if requested (for regression model only)\u001b[39;00m\n\u001b[1;32m    497\u001b[0m \u001b[38;5;28;01mif\u001b[39;00m \u001b[38;5;124m\"\u001b[39m\u001b[38;5;124ml\u001b[39m\u001b[38;5;124m\"\u001b[39m \u001b[38;5;129;01min\u001b[39;00m \u001b[38;5;28mself\u001b[39m\u001b[38;5;241m.\u001b[39mmodel_type:\n\u001b[1;32m    498\u001b[0m     \u001b[38;5;66;03m## standard deviation and mean of winsorized features\u001b[39;00m\n\u001b[0;32m--> 499\u001b[0m     \u001b[38;5;28;43mself\u001b[39;49m\u001b[38;5;241;43m.\u001b[39;49m\u001b[43mwinsorizer\u001b[49m\u001b[38;5;241;43m.\u001b[39;49m\u001b[43mtrain\u001b[49m\u001b[43m(\u001b[49m\u001b[43mX\u001b[49m\u001b[43m)\u001b[49m\n\u001b[1;32m    500\u001b[0m     winsorized_X \u001b[38;5;241m=\u001b[39m \u001b[38;5;28mself\u001b[39m\u001b[38;5;241m.\u001b[39mwinsorizer\u001b[38;5;241m.\u001b[39mtrim(X)\n\u001b[1;32m    501\u001b[0m     \u001b[38;5;28mself\u001b[39m\u001b[38;5;241m.\u001b[39mstddev \u001b[38;5;241m=\u001b[39m np\u001b[38;5;241m.\u001b[39mstd(winsorized_X, axis\u001b[38;5;241m=\u001b[39m\u001b[38;5;241m0\u001b[39m)\n",
      "File \u001b[0;32m~/ML/decision-tree-rules-extractor/.venv/lib/python3.11/site-packages/rulefit/rulefit.py:93\u001b[0m, in \u001b[0;36mWinsorizer.train\u001b[0;34m(self, X)\u001b[0m\n\u001b[1;32m     91\u001b[0m \u001b[38;5;28;01mif\u001b[39;00m \u001b[38;5;28mself\u001b[39m\u001b[38;5;241m.\u001b[39mtrim_quantile \u001b[38;5;241m>\u001b[39m \u001b[38;5;241m0\u001b[39m:\n\u001b[1;32m     92\u001b[0m     \u001b[38;5;28;01mfor\u001b[39;00m i_col \u001b[38;5;129;01min\u001b[39;00m np\u001b[38;5;241m.\u001b[39marange(X\u001b[38;5;241m.\u001b[39mshape[\u001b[38;5;241m1\u001b[39m]):\n\u001b[0;32m---> 93\u001b[0m         lower \u001b[38;5;241m=\u001b[39m \u001b[43mnp\u001b[49m\u001b[38;5;241;43m.\u001b[39;49m\u001b[43mpercentile\u001b[49m\u001b[43m(\u001b[49m\u001b[43mX\u001b[49m\u001b[43m[\u001b[49m\u001b[43m:\u001b[49m\u001b[43m,\u001b[49m\u001b[43m \u001b[49m\u001b[43mi_col\u001b[49m\u001b[43m]\u001b[49m\u001b[43m,\u001b[49m\u001b[43m \u001b[49m\u001b[38;5;28;43mself\u001b[39;49m\u001b[38;5;241;43m.\u001b[39;49m\u001b[43mtrim_quantile\u001b[49m\u001b[43m \u001b[49m\u001b[38;5;241;43m*\u001b[39;49m\u001b[43m \u001b[49m\u001b[38;5;241;43m100\u001b[39;49m\u001b[43m)\u001b[49m\n\u001b[1;32m     94\u001b[0m         upper \u001b[38;5;241m=\u001b[39m np\u001b[38;5;241m.\u001b[39mpercentile(X[:, i_col], \u001b[38;5;241m100\u001b[39m \u001b[38;5;241m-\u001b[39m \u001b[38;5;28mself\u001b[39m\u001b[38;5;241m.\u001b[39mtrim_quantile \u001b[38;5;241m*\u001b[39m \u001b[38;5;241m100\u001b[39m)\n\u001b[1;32m     95\u001b[0m         \u001b[38;5;28mself\u001b[39m\u001b[38;5;241m.\u001b[39mwinsor_lims[:, i_col] \u001b[38;5;241m=\u001b[39m [lower, upper]\n",
      "File \u001b[0;32m~/ML/decision-tree-rules-extractor/.venv/lib/python3.11/site-packages/numpy/lib/_function_base_impl.py:4287\u001b[0m, in \u001b[0;36mpercentile\u001b[0;34m(a, q, axis, out, overwrite_input, method, keepdims, weights, interpolation)\u001b[0m\n\u001b[1;32m   4284\u001b[0m     \u001b[38;5;28;01mif\u001b[39;00m np\u001b[38;5;241m.\u001b[39many(weights \u001b[38;5;241m<\u001b[39m \u001b[38;5;241m0\u001b[39m):\n\u001b[1;32m   4285\u001b[0m         \u001b[38;5;28;01mraise\u001b[39;00m \u001b[38;5;167;01mValueError\u001b[39;00m(\u001b[38;5;124m\"\u001b[39m\u001b[38;5;124mWeights must be non-negative.\u001b[39m\u001b[38;5;124m\"\u001b[39m)\n\u001b[0;32m-> 4287\u001b[0m \u001b[38;5;28;01mreturn\u001b[39;00m \u001b[43m_quantile_unchecked\u001b[49m\u001b[43m(\u001b[49m\n\u001b[1;32m   4288\u001b[0m \u001b[43m    \u001b[49m\u001b[43ma\u001b[49m\u001b[43m,\u001b[49m\u001b[43m \u001b[49m\u001b[43mq\u001b[49m\u001b[43m,\u001b[49m\u001b[43m \u001b[49m\u001b[43maxis\u001b[49m\u001b[43m,\u001b[49m\u001b[43m \u001b[49m\u001b[43mout\u001b[49m\u001b[43m,\u001b[49m\u001b[43m \u001b[49m\u001b[43moverwrite_input\u001b[49m\u001b[43m,\u001b[49m\u001b[43m \u001b[49m\u001b[43mmethod\u001b[49m\u001b[43m,\u001b[49m\u001b[43m \u001b[49m\u001b[43mkeepdims\u001b[49m\u001b[43m,\u001b[49m\u001b[43m \u001b[49m\u001b[43mweights\u001b[49m\u001b[43m)\u001b[49m\n",
      "File \u001b[0;32m~/ML/decision-tree-rules-extractor/.venv/lib/python3.11/site-packages/numpy/lib/_function_base_impl.py:4617\u001b[0m, in \u001b[0;36m_quantile_unchecked\u001b[0;34m(a, q, axis, out, overwrite_input, method, keepdims, weights)\u001b[0m\n\u001b[1;32m   4608\u001b[0m \u001b[38;5;28;01mdef\u001b[39;00m \u001b[38;5;21m_quantile_unchecked\u001b[39m(a,\n\u001b[1;32m   4609\u001b[0m                         q,\n\u001b[1;32m   4610\u001b[0m                         axis\u001b[38;5;241m=\u001b[39m\u001b[38;5;28;01mNone\u001b[39;00m,\n\u001b[0;32m   (...)\u001b[0m\n\u001b[1;32m   4614\u001b[0m                         keepdims\u001b[38;5;241m=\u001b[39m\u001b[38;5;28;01mFalse\u001b[39;00m,\n\u001b[1;32m   4615\u001b[0m                         weights\u001b[38;5;241m=\u001b[39m\u001b[38;5;28;01mNone\u001b[39;00m):\n\u001b[1;32m   4616\u001b[0m \u001b[38;5;250m    \u001b[39m\u001b[38;5;124;03m\"\"\"Assumes that q is in [0, 1], and is an ndarray\"\"\"\u001b[39;00m\n\u001b[0;32m-> 4617\u001b[0m     \u001b[38;5;28;01mreturn\u001b[39;00m \u001b[43m_ureduce\u001b[49m\u001b[43m(\u001b[49m\u001b[43ma\u001b[49m\u001b[43m,\u001b[49m\n\u001b[1;32m   4618\u001b[0m \u001b[43m                    \u001b[49m\u001b[43mfunc\u001b[49m\u001b[38;5;241;43m=\u001b[39;49m\u001b[43m_quantile_ureduce_func\u001b[49m\u001b[43m,\u001b[49m\n\u001b[1;32m   4619\u001b[0m \u001b[43m                    \u001b[49m\u001b[43mq\u001b[49m\u001b[38;5;241;43m=\u001b[39;49m\u001b[43mq\u001b[49m\u001b[43m,\u001b[49m\n\u001b[1;32m   4620\u001b[0m \u001b[43m                    \u001b[49m\u001b[43mweights\u001b[49m\u001b[38;5;241;43m=\u001b[39;49m\u001b[43mweights\u001b[49m\u001b[43m,\u001b[49m\n\u001b[1;32m   4621\u001b[0m \u001b[43m                    \u001b[49m\u001b[43mkeepdims\u001b[49m\u001b[38;5;241;43m=\u001b[39;49m\u001b[43mkeepdims\u001b[49m\u001b[43m,\u001b[49m\n\u001b[1;32m   4622\u001b[0m \u001b[43m                    \u001b[49m\u001b[43maxis\u001b[49m\u001b[38;5;241;43m=\u001b[39;49m\u001b[43maxis\u001b[49m\u001b[43m,\u001b[49m\n\u001b[1;32m   4623\u001b[0m \u001b[43m                    \u001b[49m\u001b[43mout\u001b[49m\u001b[38;5;241;43m=\u001b[39;49m\u001b[43mout\u001b[49m\u001b[43m,\u001b[49m\n\u001b[1;32m   4624\u001b[0m \u001b[43m                    \u001b[49m\u001b[43moverwrite_input\u001b[49m\u001b[38;5;241;43m=\u001b[39;49m\u001b[43moverwrite_input\u001b[49m\u001b[43m,\u001b[49m\n\u001b[1;32m   4625\u001b[0m \u001b[43m                    \u001b[49m\u001b[43mmethod\u001b[49m\u001b[38;5;241;43m=\u001b[39;49m\u001b[43mmethod\u001b[49m\u001b[43m)\u001b[49m\n",
      "File \u001b[0;32m~/ML/decision-tree-rules-extractor/.venv/lib/python3.11/site-packages/numpy/lib/_function_base_impl.py:3764\u001b[0m, in \u001b[0;36m_ureduce\u001b[0;34m(a, func, keepdims, **kwargs)\u001b[0m\n\u001b[1;32m   3761\u001b[0m             index_out \u001b[38;5;241m=\u001b[39m (\u001b[38;5;241m0\u001b[39m, ) \u001b[38;5;241m*\u001b[39m nd\n\u001b[1;32m   3762\u001b[0m             kwargs[\u001b[38;5;124m'\u001b[39m\u001b[38;5;124mout\u001b[39m\u001b[38;5;124m'\u001b[39m] \u001b[38;5;241m=\u001b[39m out[(\u001b[38;5;28mEllipsis\u001b[39m, ) \u001b[38;5;241m+\u001b[39m index_out]\n\u001b[0;32m-> 3764\u001b[0m r \u001b[38;5;241m=\u001b[39m \u001b[43mfunc\u001b[49m\u001b[43m(\u001b[49m\u001b[43ma\u001b[49m\u001b[43m,\u001b[49m\u001b[43m \u001b[49m\u001b[38;5;241;43m*\u001b[39;49m\u001b[38;5;241;43m*\u001b[39;49m\u001b[43mkwargs\u001b[49m\u001b[43m)\u001b[49m\n\u001b[1;32m   3766\u001b[0m \u001b[38;5;28;01mif\u001b[39;00m out \u001b[38;5;129;01mis\u001b[39;00m \u001b[38;5;129;01mnot\u001b[39;00m \u001b[38;5;28;01mNone\u001b[39;00m:\n\u001b[1;32m   3767\u001b[0m     \u001b[38;5;28;01mreturn\u001b[39;00m out\n",
      "File \u001b[0;32m~/ML/decision-tree-rules-extractor/.venv/lib/python3.11/site-packages/numpy/lib/_function_base_impl.py:4792\u001b[0m, in \u001b[0;36m_quantile_ureduce_func\u001b[0;34m(a, q, weights, axis, out, overwrite_input, method)\u001b[0m\n\u001b[1;32m   4790\u001b[0m         arr \u001b[38;5;241m=\u001b[39m a\u001b[38;5;241m.\u001b[39mcopy()\n\u001b[1;32m   4791\u001b[0m         wgt \u001b[38;5;241m=\u001b[39m weights\n\u001b[0;32m-> 4792\u001b[0m result \u001b[38;5;241m=\u001b[39m \u001b[43m_quantile\u001b[49m\u001b[43m(\u001b[49m\u001b[43marr\u001b[49m\u001b[43m,\u001b[49m\n\u001b[1;32m   4793\u001b[0m \u001b[43m                   \u001b[49m\u001b[43mquantiles\u001b[49m\u001b[38;5;241;43m=\u001b[39;49m\u001b[43mq\u001b[49m\u001b[43m,\u001b[49m\n\u001b[1;32m   4794\u001b[0m \u001b[43m                   \u001b[49m\u001b[43maxis\u001b[49m\u001b[38;5;241;43m=\u001b[39;49m\u001b[43maxis\u001b[49m\u001b[43m,\u001b[49m\n\u001b[1;32m   4795\u001b[0m \u001b[43m                   \u001b[49m\u001b[43mmethod\u001b[49m\u001b[38;5;241;43m=\u001b[39;49m\u001b[43mmethod\u001b[49m\u001b[43m,\u001b[49m\n\u001b[1;32m   4796\u001b[0m \u001b[43m                   \u001b[49m\u001b[43mout\u001b[49m\u001b[38;5;241;43m=\u001b[39;49m\u001b[43mout\u001b[49m\u001b[43m,\u001b[49m\n\u001b[1;32m   4797\u001b[0m \u001b[43m                   \u001b[49m\u001b[43mweights\u001b[49m\u001b[38;5;241;43m=\u001b[39;49m\u001b[43mwgt\u001b[49m\u001b[43m)\u001b[49m\n\u001b[1;32m   4798\u001b[0m \u001b[38;5;28;01mreturn\u001b[39;00m result\n",
      "File \u001b[0;32m~/ML/decision-tree-rules-extractor/.venv/lib/python3.11/site-packages/numpy/lib/_function_base_impl.py:4924\u001b[0m, in \u001b[0;36m_quantile\u001b[0;34m(arr, quantiles, axis, method, out, weights)\u001b[0m\n\u001b[1;32m   4922\u001b[0m         result_shape \u001b[38;5;241m=\u001b[39m virtual_indexes\u001b[38;5;241m.\u001b[39mshape \u001b[38;5;241m+\u001b[39m (\u001b[38;5;241m1\u001b[39m,) \u001b[38;5;241m*\u001b[39m (arr\u001b[38;5;241m.\u001b[39mndim \u001b[38;5;241m-\u001b[39m \u001b[38;5;241m1\u001b[39m)\n\u001b[1;32m   4923\u001b[0m         gamma \u001b[38;5;241m=\u001b[39m gamma\u001b[38;5;241m.\u001b[39mreshape(result_shape)\n\u001b[0;32m-> 4924\u001b[0m         result \u001b[38;5;241m=\u001b[39m \u001b[43m_lerp\u001b[49m\u001b[43m(\u001b[49m\u001b[43mprevious\u001b[49m\u001b[43m,\u001b[49m\n\u001b[1;32m   4925\u001b[0m \u001b[43m                    \u001b[49m\u001b[38;5;28;43mnext\u001b[39;49m\u001b[43m,\u001b[49m\n\u001b[1;32m   4926\u001b[0m \u001b[43m                    \u001b[49m\u001b[43mgamma\u001b[49m\u001b[43m,\u001b[49m\n\u001b[1;32m   4927\u001b[0m \u001b[43m                    \u001b[49m\u001b[43mout\u001b[49m\u001b[38;5;241;43m=\u001b[39;49m\u001b[43mout\u001b[49m\u001b[43m)\u001b[49m\n\u001b[1;32m   4928\u001b[0m \u001b[38;5;28;01melse\u001b[39;00m:\n\u001b[1;32m   4929\u001b[0m     \u001b[38;5;66;03m# Weighted case\u001b[39;00m\n\u001b[1;32m   4930\u001b[0m     \u001b[38;5;66;03m# This implements method=\"inverted_cdf\", the only supported weighted\u001b[39;00m\n\u001b[1;32m   4931\u001b[0m     \u001b[38;5;66;03m# method, which needs to sort anyway.\u001b[39;00m\n\u001b[1;32m   4932\u001b[0m     weights \u001b[38;5;241m=\u001b[39m np\u001b[38;5;241m.\u001b[39masanyarray(weights)\n",
      "File \u001b[0;32m~/ML/decision-tree-rules-extractor/.venv/lib/python3.11/site-packages/numpy/lib/_function_base_impl.py:4720\u001b[0m, in \u001b[0;36m_lerp\u001b[0;34m(a, b, t, out)\u001b[0m\n\u001b[1;32m   4706\u001b[0m \u001b[38;5;28;01mdef\u001b[39;00m \u001b[38;5;21m_lerp\u001b[39m(a, b, t, out\u001b[38;5;241m=\u001b[39m\u001b[38;5;28;01mNone\u001b[39;00m):\n\u001b[1;32m   4707\u001b[0m \u001b[38;5;250m    \u001b[39m\u001b[38;5;124;03m\"\"\"\u001b[39;00m\n\u001b[1;32m   4708\u001b[0m \u001b[38;5;124;03m    Compute the linear interpolation weighted by gamma on each point of\u001b[39;00m\n\u001b[1;32m   4709\u001b[0m \u001b[38;5;124;03m    two same shape array.\u001b[39;00m\n\u001b[0;32m   (...)\u001b[0m\n\u001b[1;32m   4718\u001b[0m \u001b[38;5;124;03m        Output array.\u001b[39;00m\n\u001b[1;32m   4719\u001b[0m \u001b[38;5;124;03m    \"\"\"\u001b[39;00m\n\u001b[0;32m-> 4720\u001b[0m     diff_b_a \u001b[38;5;241m=\u001b[39m \u001b[43msubtract\u001b[49m\u001b[43m(\u001b[49m\u001b[43mb\u001b[49m\u001b[43m,\u001b[49m\u001b[43m \u001b[49m\u001b[43ma\u001b[49m\u001b[43m)\u001b[49m\n\u001b[1;32m   4721\u001b[0m     \u001b[38;5;66;03m# asanyarray is a stop-gap until gh-13105\u001b[39;00m\n\u001b[1;32m   4722\u001b[0m     lerp_interpolation \u001b[38;5;241m=\u001b[39m asanyarray(add(a, diff_b_a \u001b[38;5;241m*\u001b[39m t, out\u001b[38;5;241m=\u001b[39mout))\n",
      "\u001b[0;31mTypeError\u001b[0m: numpy boolean subtract, the `-` operator, is not supported, use the bitwise_xor, the `^` operator, or the logical_xor function instead."
     ]
    }
   ],
   "source": [
    "# Инициализация и обучение модели RuleFit\n",
    "rf_clf = RuleFit(\n",
    "    tree_size=4,\n",
    "    random_state=42,\n",
    "    lin_standardise=False,\n",
    "    #trim_quantile=0,\n",
    "    rfmode='classify'\n",
    ")\n",
    "print()\n",
    "rf_clf.fit(X_train.values, y_train.values, feature_names=X_train.columns)\n",
    "\n",
    "# Предсказание на тестовой выборке\n",
    "y_pred_rf = rf_clf.predict(X_test.values)\n",
    "\n",
    "# Бинаризация предсказаний\n",
    "y_pred_rf_binary = np.where(y_pred_rf > 0.5, 1, 0)\n",
    "\n",
    "# Расчет метрик\n",
    "auc_rf = roc_auc_score(y_test, y_pred_rf)\n",
    "acc_rf = accuracy_score(y_test, y_pred_rf_binary)\n",
    "f1_rf = f1_score(y_test, y_pred_rf_binary)\n",
    "\n",
    "# Получение правил\n",
    "rules = rf_clf.get_rules()\n",
    "rules = rules[rules.coef != 0].sort_values(by=\"support\", ascending=False)\n",
    "print(\"Правила RuleFit:\\n\")\n",
    "print(rules[['rule', 'coef', 'support']])"
   ]
  },
  {
   "cell_type": "code",
   "execution_count": 34,
   "id": "beb77203-5666-4e38-9b94-575d3a963f73",
   "metadata": {},
   "outputs": [
    {
     "data": {
      "text/plain": [
       "(array([[1.0, 0.0, 1.0, ..., 0, 52.0, True],\n",
       "        [0.0, 0.0, 1.0, ..., 0, 51.4792, False],\n",
       "        [0.0, 0.0, 0.0, ..., 0, 76.7292, False],\n",
       "        ...,\n",
       "        [1.0, 0.0, 1.0, ..., 0, 38.5, True],\n",
       "        [1.0, 0.0, 0.0, ..., 2, 110.8833, True],\n",
       "        [0.0, 0.0, 0.0, ..., 1, 83.1583, False]], dtype=object),\n",
       " array([0, 1, 1, 1, 1, 0, 1, 0, 0, 0, 0, 1, 0, 1, 1, 0, 1, 1, 0, 1, 0, 0,\n",
       "        0, 0, 0, 1, 0, 1, 1, 1, 1, 0, 1, 0, 0, 0, 1, 1, 0, 1, 1, 1, 1, 1,\n",
       "        0, 1, 1, 1, 1, 1, 1, 1, 1, 1, 0, 0, 0, 1, 1, 0, 0, 1, 1, 1, 1, 1,\n",
       "        1, 1, 0, 0, 0, 0, 1, 1, 1, 1, 1, 0, 0, 1, 1, 1, 1, 1, 1, 0, 1, 0,\n",
       "        1, 1, 1, 1, 1, 0, 0, 1, 1, 1, 0, 0, 0, 1, 1, 1, 1, 1, 1, 0, 1, 0,\n",
       "        1, 1, 0, 0, 1, 1, 1, 1, 1, 1, 1, 0, 1, 1, 1, 1, 1, 1, 1, 1, 0, 0,\n",
       "        1, 1, 1, 1, 1, 1, 1, 1, 1, 1, 0, 1, 1]))"
      ]
     },
     "execution_count": 34,
     "metadata": {},
     "output_type": "execute_result"
    }
   ],
   "source": [
    "X_train.values, y_train.values"
   ]
  },
  {
   "cell_type": "code",
   "execution_count": 38,
   "id": "c1b92c2c-ecc5-491d-86f8-381fedc4457c",
   "metadata": {},
   "outputs": [
    {
     "ename": "SyntaxError",
     "evalue": "cannot assign to list comprehension (2396622084.py, line 1)",
     "output_type": "error",
     "traceback": [
      "\u001b[0;36m  Cell \u001b[0;32mIn[38], line 1\u001b[0;36m\u001b[0m\n\u001b[0;31m    for [(list(X.values)[idx], idx) for idx, col_name in enumerate(X.columns)]\u001b[0m\n\u001b[0m        ^\u001b[0m\n\u001b[0;31mSyntaxError\u001b[0m\u001b[0;31m:\u001b[0m cannot assign to list comprehension\n"
     ]
    }
   ],
   "source": [
    "for [(list(X.values)[idx], idx) for idx, col_name in enumerate(X.columns)]"
   ]
  },
  {
   "cell_type": "code",
   "execution_count": 41,
   "id": "ccad2e16-5cd6-4a45-bb50-9f7e3fe2c1aa",
   "metadata": {},
   "outputs": [
    {
     "data": {
      "text/plain": [
       "array([1, 'female', 38.0, 1, 0, 71.2833, 'C', 'First', 'woman', False,\n",
       "       'C', 'Cherbourg'], dtype=object)"
      ]
     },
     "execution_count": 41,
     "metadata": {},
     "output_type": "execute_result"
    }
   ],
   "source": [
    "X.values[0]"
   ]
  },
  {
   "cell_type": "code",
   "execution_count": 42,
   "id": "9fead32c-0b68-44b7-a481-a87484b3d98d",
   "metadata": {},
   "outputs": [
    {
     "data": {
      "text/plain": [
       "Index(['pclass', 'sex', 'age', 'sibsp', 'parch', 'fare', 'embarked', 'class',\n",
       "       'who', 'adult_male', 'deck', 'embark_town'],\n",
       "      dtype='object')"
      ]
     },
     "execution_count": 42,
     "metadata": {},
     "output_type": "execute_result"
    }
   ],
   "source": [
    "X.columns"
   ]
  },
  {
   "cell_type": "code",
   "execution_count": null,
   "id": "f18a34e8-8aaa-4bb9-8a2e-51529602e7e3",
   "metadata": {},
   "outputs": [],
   "source": []
  }
 ],
 "metadata": {
  "kernelspec": {
   "display_name": "Python 3 (ipykernel)",
   "language": "python",
   "name": "python3"
  },
  "language_info": {
   "codemirror_mode": {
    "name": "ipython",
    "version": 3
   },
   "file_extension": ".py",
   "mimetype": "text/x-python",
   "name": "python",
   "nbconvert_exporter": "python",
   "pygments_lexer": "ipython3",
   "version": "3.11.3"
  }
 },
 "nbformat": 4,
 "nbformat_minor": 5
}
